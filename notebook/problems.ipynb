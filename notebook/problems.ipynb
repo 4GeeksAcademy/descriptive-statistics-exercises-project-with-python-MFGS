{
    "cells": [
        {
            "cell_type": "markdown",
            "id": "ac622319",
            "metadata": {},
            "source": [
                "# Descriptive statistics problems"
            ]
        },
        {
            "cell_type": "markdown",
            "id": "5e0ab0d5",
            "metadata": {},
            "source": [
                "### Exercise 1\n",
                "\n",
                "We will use NumPy to obtain information to describe statistically.\n",
                "\n",
                "- Generate an array of 100 elements following a normal distribution.\n",
                "- Generate an array of 100 elements following a chi-square distribution with 3 degrees of freedom.\n",
                "- Calculate the main metrics and statistical measures that best describe the two vectors."
            ]
        },
        {
            "cell_type": "code",
            "execution_count": 19,
            "id": "34720ab6",
            "metadata": {},
            "outputs": [],
            "source": [
                "# TODO\n",
                "import numpy as np\n",
                "import pandas as pd\n",
                "from scipy import stats\n",
                "\n",
                "# Array de 100 elementos que sigan una distribución normal.\n",
                "array_normal = np.random.normal(50, 15, 100).astype(int) \n",
                "\n",
                "Data = pd.DataFrame(array_normal)\n",
                "\n",
                "# Array de 100 elementos con chisquare()\n",
                "array_chi_square = np.random.chisquare(3, 100)\n",
                "\n",
                "Data_chi_square = pd.DataFrame(array_chi_square)\n",
                "\n",
                "# Calcular las principales métricas para ambos arrays\n",
                "\n"
            ]
        },
        {
            "cell_type": "code",
            "execution_count": 27,
            "id": "b0a0409a",
            "metadata": {},
            "outputs": [
                {
                    "data": {
                        "text/plain": [
                            "0    50.86\n",
                            "dtype: float64"
                        ]
                    },
                    "execution_count": 27,
                    "metadata": {},
                    "output_type": "execute_result"
                }
            ],
            "source": [
                "# Media de Data\n",
                "Data.mean()"
            ]
        },
        {
            "cell_type": "code",
            "execution_count": 28,
            "id": "8dd3950f",
            "metadata": {},
            "outputs": [
                {
                    "data": {
                        "text/plain": [
                            "0    3.386894\n",
                            "dtype: float64"
                        ]
                    },
                    "execution_count": 28,
                    "metadata": {},
                    "output_type": "execute_result"
                }
            ],
            "source": [
                "# Media de Data_chi_square\n",
                "Data_chi_square.mean()"
            ]
        },
        {
            "cell_type": "code",
            "execution_count": 21,
            "id": "a2e502be",
            "metadata": {},
            "outputs": [
                {
                    "data": {
                        "text/plain": [
                            "0    51.0\n",
                            "dtype: float64"
                        ]
                    },
                    "execution_count": 21,
                    "metadata": {},
                    "output_type": "execute_result"
                }
            ],
            "source": [
                "# Mediana de Data\n",
                "Data.median()"
            ]
        },
        {
            "cell_type": "code",
            "execution_count": 29,
            "id": "97a21bc6",
            "metadata": {},
            "outputs": [
                {
                    "data": {
                        "text/plain": [
                            "0    2.553938\n",
                            "dtype: float64"
                        ]
                    },
                    "execution_count": 29,
                    "metadata": {},
                    "output_type": "execute_result"
                }
            ],
            "source": [
                "# Mediana de Data_chi_square\n",
                "Data_chi_square.median()"
            ]
        },
        {
            "cell_type": "code",
            "execution_count": 22,
            "id": "aa7c0abb",
            "metadata": {},
            "outputs": [
                {
                    "data": {
                        "text/plain": [
                            "0    42\n",
                            "Name: 0, dtype: int64"
                        ]
                    },
                    "execution_count": 22,
                    "metadata": {},
                    "output_type": "execute_result"
                }
            ],
            "source": [
                "# Moda de Data\n",
                "Data.mode().iloc[0]"
            ]
        },
        {
            "cell_type": "code",
            "execution_count": 30,
            "id": "1a725e0e",
            "metadata": {},
            "outputs": [
                {
                    "data": {
                        "text/plain": [
                            "0    0.237088\n",
                            "Name: 0, dtype: float64"
                        ]
                    },
                    "execution_count": 30,
                    "metadata": {},
                    "output_type": "execute_result"
                }
            ],
            "source": [
                "# Moda de Data_chi_square\n",
                "Data_chi_square.mode().iloc[0]"
            ]
        },
        {
            "cell_type": "code",
            "execution_count": 23,
            "id": "6452e2ed",
            "metadata": {},
            "outputs": [
                {
                    "data": {
                        "text/plain": [
                            "0    201.65697\n",
                            "dtype: float64"
                        ]
                    },
                    "execution_count": 23,
                    "metadata": {},
                    "output_type": "execute_result"
                }
            ],
            "source": [
                "# Varianza de Data\n",
                "Data.var()"
            ]
        },
        {
            "cell_type": "code",
            "execution_count": 31,
            "id": "3cbd225b",
            "metadata": {},
            "outputs": [
                {
                    "data": {
                        "text/plain": [
                            "0    6.588681\n",
                            "dtype: float64"
                        ]
                    },
                    "execution_count": 31,
                    "metadata": {},
                    "output_type": "execute_result"
                }
            ],
            "source": [
                "# Varianza de Data_chi_square\n",
                "Data_chi_square.var()"
            ]
        },
        {
            "cell_type": "code",
            "execution_count": 24,
            "id": "58aabd7d",
            "metadata": {},
            "outputs": [
                {
                    "data": {
                        "text/plain": [
                            "0    14.200598\n",
                            "dtype: float64"
                        ]
                    },
                    "execution_count": 24,
                    "metadata": {},
                    "output_type": "execute_result"
                }
            ],
            "source": [
                "# Desviación Estandar de Data\n",
                "Data.std()"
            ]
        },
        {
            "cell_type": "code",
            "execution_count": 32,
            "id": "7ca09da2",
            "metadata": {},
            "outputs": [
                {
                    "data": {
                        "text/plain": [
                            "0    2.566843\n",
                            "dtype: float64"
                        ]
                    },
                    "execution_count": 32,
                    "metadata": {},
                    "output_type": "execute_result"
                }
            ],
            "source": [
                "# Desviación Estandar de Data_chi_square\n",
                "Data_chi_square.std()"
            ]
        },
        {
            "cell_type": "code",
            "execution_count": 25,
            "id": "b1f712f7",
            "metadata": {},
            "outputs": [
                {
                    "data": {
                        "text/plain": [
                            "0    75\n",
                            "dtype: int64"
                        ]
                    },
                    "execution_count": 25,
                    "metadata": {},
                    "output_type": "execute_result"
                }
            ],
            "source": [
                "# Rango de Data\n",
                "Data.max() - Data.min()"
            ]
        },
        {
            "cell_type": "code",
            "execution_count": 33,
            "id": "85ec2fef",
            "metadata": {},
            "outputs": [
                {
                    "data": {
                        "text/plain": [
                            "0    11.31958\n",
                            "dtype: float64"
                        ]
                    },
                    "execution_count": 33,
                    "metadata": {},
                    "output_type": "execute_result"
                }
            ],
            "source": [
                "# Rango de Data_chi_square\n",
                "Data_chi_square.max() - Data_chi_square.min()"
            ]
        },
        {
            "cell_type": "markdown",
            "id": "46c70c3d",
            "metadata": {},
            "source": [
                "### Exercise 2\n",
                "\n",
                "Write a Python program to calculate the standard deviation of the following data:\n",
                "\n",
                "```py\n",
                "data = [4, 2, 5, 8, 6]\n",
                "```"
            ]
        },
        {
            "cell_type": "code",
            "execution_count": 34,
            "id": "d590308e",
            "metadata": {},
            "outputs": [],
            "source": [
                "# TODO\n",
                "\n",
                "data = [4, 2, 5, 8, 6]\n",
                "\n",
                "df_data = pd.DataFrame(data)"
            ]
        },
        {
            "cell_type": "code",
            "execution_count": 35,
            "id": "94ad33e8",
            "metadata": {},
            "outputs": [
                {
                    "data": {
                        "text/plain": [
                            "0    2.236068\n",
                            "dtype: float64"
                        ]
                    },
                    "execution_count": 35,
                    "metadata": {},
                    "output_type": "execute_result"
                }
            ],
            "source": [
                "df_data.std()"
            ]
        },
        {
            "cell_type": "code",
            "execution_count": null,
            "id": "7a9970f8",
            "metadata": {},
            "outputs": [],
            "source": []
        }
    ],
    "metadata": {
        "kernelspec": {
            "display_name": "Python 3",
            "language": "python",
            "name": "python3"
        },
        "language_info": {
            "codemirror_mode": {
                "name": "ipython",
                "version": 3
            },
            "file_extension": ".py",
            "mimetype": "text/x-python",
            "name": "python",
            "nbconvert_exporter": "python",
            "pygments_lexer": "ipython3",
            "version": "3.11.4"
        }
    },
    "nbformat": 4,
    "nbformat_minor": 5
}
